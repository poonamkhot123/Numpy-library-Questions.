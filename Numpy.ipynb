{
  "nbformat": 4,
  "nbformat_minor": 0,
  "metadata": {
    "colab": {
      "provenance": [],
      "authorship_tag": "ABX9TyPKFjrRIO4ONQZYmD2N7wHe",
      "include_colab_link": true
    },
    "kernelspec": {
      "name": "python3",
      "display_name": "Python 3"
    },
    "language_info": {
      "name": "python"
    }
  },
  "cells": [
    {
      "cell_type": "markdown",
      "metadata": {
        "id": "view-in-github",
        "colab_type": "text"
      },
      "source": [
        "<a href=\"https://colab.research.google.com/github/poonamkhot123/Numpy-library-Questions./blob/main/Numpy.ipynb\" target=\"_parent\"><img src=\"https://colab.research.google.com/assets/colab-badge.svg\" alt=\"Open In Colab\"/></a>"
      ]
    },
    {
      "cell_type": "code",
      "execution_count": null,
      "metadata": {
        "id": "Viv2sFpweNkm"
      },
      "outputs": [],
      "source": []
    },
    {
      "cell_type": "markdown",
      "source": [
        "Question 1: Given a 1D NumPy array arr_1d, extract and print the first element.\n",
        "\n",
        "arr_1d = np.array([1, 2, 3, 4, 5])"
      ],
      "metadata": {
        "id": "q2VqGOF4edpg"
      }
    },
    {
      "cell_type": "code",
      "source": [
        "import numpy as np\n",
        "arr_1d = np.array([1, 2, 3, 4, 5])\n",
        "print(arr_1d[0])\n"
      ],
      "metadata": {
        "colab": {
          "base_uri": "https://localhost:8080/"
        },
        "id": "FHdbI1TDfW4x",
        "outputId": "bbc1f009-6036-4224-a79a-eee565dcf35a"
      },
      "execution_count": null,
      "outputs": [
        {
          "output_type": "stream",
          "name": "stdout",
          "text": [
            "1\n"
          ]
        }
      ]
    },
    {
      "cell_type": "markdown",
      "source": [
        "Question 2: Given a 1D NumPy array arr_1d, extract and print the last three elements.\n",
        "\n",
        "arr_1d = np.array([1, 2, 3, 4, 5])\n"
      ],
      "metadata": {
        "id": "Fy89fkahefXw"
      }
    },
    {
      "cell_type": "code",
      "source": [
        "import numpy as np\n",
        "arr_1d = np.array([1, 2, 3, 4, 5])\n",
        "print(arr_1d[-3:])\n"
      ],
      "metadata": {
        "colab": {
          "base_uri": "https://localhost:8080/"
        },
        "id": "ptPdBGjpfnf_",
        "outputId": "49fe1dc1-fb06-4d25-cec7-9dcfea3e8f5e"
      },
      "execution_count": null,
      "outputs": [
        {
          "output_type": "stream",
          "name": "stdout",
          "text": [
            "[3 4 5]\n"
          ]
        }
      ]
    },
    {
      "cell_type": "markdown",
      "source": [
        "Question 3: Given a 2D NumPy array arr_2d, extract and print the element at the second row and third column.\n",
        "\n",
        "arr_2d = np.array([[1, 2, 3], [4, 5, 6], [7, 8, 9]])\n"
      ],
      "metadata": {
        "id": "wUq6TJUSenEr"
      }
    },
    {
      "cell_type": "code",
      "source": [
        "import numpy as np\n",
        "arr_2d = np.array([[1, 2, 3],\n",
        "                   [4, 5, 6],\n",
        "                   [7, 8, 9]])\n",
        "print(arr_2d[1, 2])\n"
      ],
      "metadata": {
        "colab": {
          "base_uri": "https://localhost:8080/"
        },
        "id": "qgn-02CMf7II",
        "outputId": "6788fbfb-fa33-4eb5-ca38-8986da3cce1f"
      },
      "execution_count": null,
      "outputs": [
        {
          "output_type": "stream",
          "name": "stdout",
          "text": [
            "6\n"
          ]
        }
      ]
    },
    {
      "cell_type": "markdown",
      "source": [
        "Question 4: Given a 2D NumPy array arr_2d, extract and print the first row.\n",
        "\n",
        "arr_2d = np.array([[1, 2, 3], [4, 5, 6], [7, 8, 9]])"
      ],
      "metadata": {
        "id": "k0Bs2Q_gerPE"
      }
    },
    {
      "cell_type": "code",
      "source": [
        "import numpy as np\n",
        "arr_2d = np.array([[1, 2, 3],\n",
        "                   [4, 5, 6],\n",
        "                   [7, 8, 9]])\n",
        "print(arr_2d[0])\n"
      ],
      "metadata": {
        "colab": {
          "base_uri": "https://localhost:8080/"
        },
        "id": "BXKAyT_dgIDz",
        "outputId": "c99ec1ae-3642-4706-97fc-54f674b41341"
      },
      "execution_count": null,
      "outputs": [
        {
          "output_type": "stream",
          "name": "stdout",
          "text": [
            "[1 2 3]\n"
          ]
        }
      ]
    },
    {
      "cell_type": "markdown",
      "source": [
        "Question 5: Given a 2D NumPy array arr_2d, extract and print the last column.\n",
        "\n",
        "arr_2d = np.array([[1, 2, 3], [4, 5, 6], [7, 8, 9]])"
      ],
      "metadata": {
        "id": "-1fUUw41ex4W"
      }
    },
    {
      "cell_type": "code",
      "source": [
        "import numpy as np\n",
        "arr_2d = np.array([[1, 2, 3],\n",
        "                   [4, 5, 6],\n",
        "                   [7, 8, 9]])\n",
        "print(arr_2d[:, -1])\n"
      ],
      "metadata": {
        "colab": {
          "base_uri": "https://localhost:8080/"
        },
        "id": "JTmsxkZfgWb2",
        "outputId": "49defda5-e589-4a56-e85d-87204fcfa2f9"
      },
      "execution_count": null,
      "outputs": [
        {
          "output_type": "stream",
          "name": "stdout",
          "text": [
            "[3 6 9]\n"
          ]
        }
      ]
    },
    {
      "cell_type": "markdown",
      "source": [
        "Question 6: Given a 3D NumPy array arr_3d, extract and print the element at the second matrix, third row, and third column.\n",
        "\n",
        "arr_3d = np.array([[[1, 2, 3], [4, 5, 6], [7, 8, 9]], [[10, 11, 12], [13, 14, 15], [16, 17, 18]]])"
      ],
      "metadata": {
        "id": "N0X3bLE1e3NA"
      }
    },
    {
      "cell_type": "code",
      "source": [
        "import numpy as np\n",
        "arr_3d = np.array([[[1, 2, 3],\n",
        "                     [4, 5, 6],\n",
        "                     [7, 8, 9]],\n",
        "\n",
        "                    [[10, 11, 12],\n",
        "                     [13, 14, 15],\n",
        "                     [16, 17, 18]]])\n",
        "print(arr_3d[1, 2, 2])\n"
      ],
      "metadata": {
        "colab": {
          "base_uri": "https://localhost:8080/"
        },
        "id": "4sNNXGAQgjo8",
        "outputId": "bf3c0b58-02b2-4838-c506-15fb3bfa92a8"
      },
      "execution_count": null,
      "outputs": [
        {
          "output_type": "stream",
          "name": "stdout",
          "text": [
            "18\n"
          ]
        }
      ]
    },
    {
      "cell_type": "markdown",
      "source": [
        "Question 7: Given a 3D NumPy array arr_3d, extract and print the first matrix.\n",
        "\n",
        "arr_3d = np.array([[[1, 2, 3], [4, 5, 6], [7, 8, 9]], [[10, 11, 12], [13, 14, 15], [16, 17, 18]]])"
      ],
      "metadata": {
        "id": "FP521FP1e6rI"
      }
    },
    {
      "cell_type": "code",
      "source": [
        "import numpy as np\n",
        "arr_3d = np.array([[[1, 2, 3],\n",
        "                     [4, 5, 6],\n",
        "                     [7, 8, 9]],\n",
        "\n",
        "                    [[10, 11, 12],\n",
        "                     [13, 14, 15],\n",
        "                     [16, 17, 18]]])\n",
        "print(arr_3d[0])\n"
      ],
      "metadata": {
        "colab": {
          "base_uri": "https://localhost:8080/"
        },
        "id": "Rk7IYbOFgyMK",
        "outputId": "797ac11d-8c4e-4528-8882-4dbfa7e31e7e"
      },
      "execution_count": null,
      "outputs": [
        {
          "output_type": "stream",
          "name": "stdout",
          "text": [
            "[[1 2 3]\n",
            " [4 5 6]\n",
            " [7 8 9]]\n"
          ]
        }
      ]
    },
    {
      "cell_type": "markdown",
      "source": [
        "Question 8: Given a 3D NumPy array arr_3d, extract and print the last matrix.\n",
        "\n",
        "arr_3d = np.array([[[1, 2, 3], [4, 5, 6], [7, 8, 9]], [[10, 11, 12], [13, 14, 15], [16, 17, 18]]])"
      ],
      "metadata": {
        "id": "OLXPz2U8e-m-"
      }
    },
    {
      "cell_type": "code",
      "source": [
        "import numpy as np\n",
        "arr_3d = np.array([[[1, 2, 3],\n",
        "                     [4, 5, 6],\n",
        "                     [7, 8, 9]],\n",
        "\n",
        "                    [[10, 11, 12],\n",
        "                     [13, 14, 15],\n",
        "                     [16, 17, 18]]])\n",
        "print(arr_3d[-1])\n"
      ],
      "metadata": {
        "colab": {
          "base_uri": "https://localhost:8080/"
        },
        "id": "Vu92eAy9g7r5",
        "outputId": "18fd026f-91ca-4027-aa05-f319efa7e70b"
      },
      "execution_count": null,
      "outputs": [
        {
          "output_type": "stream",
          "name": "stdout",
          "text": [
            "[[10 11 12]\n",
            " [13 14 15]\n",
            " [16 17 18]]\n"
          ]
        }
      ]
    }
  ]
}